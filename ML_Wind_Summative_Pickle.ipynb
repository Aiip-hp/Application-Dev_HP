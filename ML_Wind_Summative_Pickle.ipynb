{
 "cells": [
  {
   "cell_type": "markdown",
   "metadata": {},
   "source": [
    "# Application Development Summative ML model for Wind generation"
   ]
  },
  {
   "cell_type": "markdown",
   "metadata": {},
   "source": [
    "<div class=\"alert alert-block alert-info\">\n",
    "</b> Submitted by Hemal D. Patel</div>"
   ]
  },
  {
   "cell_type": "markdown",
   "metadata": {},
   "source": [
    "### Objective"
   ]
  },
  {
   "cell_type": "markdown",
   "metadata": {},
   "source": [
    "To Create a simple ML model application which accepts suitable inputs and gives a predicted power output for each power generation plant for any day within the next 7 days.\n",
    "\n",
    "One for each genaration plant shall be created. \n",
    "\n",
    "The ML models shall be of Multiple Linear Regresssion."
   ]
  },
  {
   "cell_type": "markdown",
   "metadata": {},
   "source": [
    "### Load the data"
   ]
  },
  {
   "cell_type": "markdown",
   "metadata": {},
   "source": [
    "Import the necessary libraries and load the data. Once loaded, investigate the data."
   ]
  },
  {
   "cell_type": "code",
   "execution_count": 1,
   "metadata": {},
   "outputs": [],
   "source": [
    "# Import required libraries\n",
    "import pandas as pd\n",
    "import numpy as np\n",
    "import matplotlib.pyplot as plt\n",
    "from sklearn.decomposition import PCA\n",
    "from sklearn import linear_model\n",
    "from sklearn.pipeline import Pipeline\n",
    "from sklearn.model_selection import train_test_split\n",
    "from sklearn.metrics import r2_score\n",
    "from pandas.plotting import scatter_matrix\n",
    "import seaborn as sns\n",
    "from sklearn.ensemble import RandomForestRegressor\n",
    "import os\n",
    "\n",
    "%matplotlib inline"
   ]
  },
  {
   "cell_type": "code",
   "execution_count": 2,
   "metadata": {},
   "outputs": [
    {
     "data": {
      "text/plain": [
       "'D:\\\\AIIP\\\\Application Development\\\\Summative'"
      ]
     },
     "execution_count": 2,
     "metadata": {},
     "output_type": "execute_result"
    }
   ],
   "source": [
    "# confirm the path from which the data files shall be loaded;\n",
    "os.getcwd()"
   ]
  },
  {
   "cell_type": "markdown",
   "metadata": {},
   "source": [
    "Load the monthly maintainance schedule and Annual Generation data files for both generation plants"
   ]
  },
  {
   "cell_type": "code",
   "execution_count": 3,
   "metadata": {},
   "outputs": [
    {
     "data": {
      "text/html": [
       "<div>\n",
       "<style scoped>\n",
       "    .dataframe tbody tr th:only-of-type {\n",
       "        vertical-align: middle;\n",
       "    }\n",
       "\n",
       "    .dataframe tbody tr th {\n",
       "        vertical-align: top;\n",
       "    }\n",
       "\n",
       "    .dataframe thead th {\n",
       "        text-align: right;\n",
       "    }\n",
       "</style>\n",
       "<table border=\"1\" class=\"dataframe\">\n",
       "  <thead>\n",
       "    <tr style=\"text-align: right;\">\n",
       "      <th></th>\n",
       "      <th>Date Of Month</th>\n",
       "      <th>Capacity Available</th>\n",
       "    </tr>\n",
       "  </thead>\n",
       "  <tbody>\n",
       "    <tr>\n",
       "      <th>0</th>\n",
       "      <td>4</td>\n",
       "      <td>3</td>\n",
       "    </tr>\n",
       "    <tr>\n",
       "      <th>1</th>\n",
       "      <td>6</td>\n",
       "      <td>5</td>\n",
       "    </tr>\n",
       "    <tr>\n",
       "      <th>2</th>\n",
       "      <td>19</td>\n",
       "      <td>2</td>\n",
       "    </tr>\n",
       "    <tr>\n",
       "      <th>3</th>\n",
       "      <td>23</td>\n",
       "      <td>50</td>\n",
       "    </tr>\n",
       "    <tr>\n",
       "      <th>4</th>\n",
       "      <td>24</td>\n",
       "      <td>20</td>\n",
       "    </tr>\n",
       "    <tr>\n",
       "      <th>5</th>\n",
       "      <td>25</td>\n",
       "      <td>5</td>\n",
       "    </tr>\n",
       "    <tr>\n",
       "      <th>6</th>\n",
       "      <td>28</td>\n",
       "      <td>10</td>\n",
       "    </tr>\n",
       "  </tbody>\n",
       "</table>\n",
       "</div>"
      ],
      "text/plain": [
       "   Date Of Month  Capacity Available\n",
       "0              4                   3\n",
       "1              6                   5\n",
       "2             19                   2\n",
       "3             23                  50\n",
       "4             24                  20\n",
       "5             25                   5\n",
       "6             28                  10"
      ]
     },
     "execution_count": 3,
     "metadata": {},
     "output_type": "execute_result"
    }
   ],
   "source": [
    "# Wind Monthly Maintenance schedule;\n",
    "# Wind_monthly_schedule=pd.read_csv('wind_farm.csv') # load data description csv file on to a pandas data frame.\n",
    "\n",
    "wind_monthly_schedule=pd.read_csv('wind_farm.csv', skiprows=1) # load csv file on to a pandas data frame. One Errenous row is\n",
    "# skipped\n",
    "wind_monthly_schedule"
   ]
  },
  {
   "cell_type": "code",
   "execution_count": 4,
   "metadata": {
    "scrolled": true
   },
   "outputs": [
    {
     "data": {
      "text/html": [
       "<div>\n",
       "<style scoped>\n",
       "    .dataframe tbody tr th:only-of-type {\n",
       "        vertical-align: middle;\n",
       "    }\n",
       "\n",
       "    .dataframe tbody tr th {\n",
       "        vertical-align: top;\n",
       "    }\n",
       "\n",
       "    .dataframe thead th {\n",
       "        text-align: right;\n",
       "    }\n",
       "</style>\n",
       "<table border=\"1\" class=\"dataframe\">\n",
       "  <thead>\n",
       "    <tr style=\"text-align: right;\">\n",
       "      <th></th>\n",
       "      <th>wind speed</th>\n",
       "      <th>direction</th>\n",
       "      <th>Power Output</th>\n",
       "    </tr>\n",
       "  </thead>\n",
       "  <tbody>\n",
       "    <tr>\n",
       "      <th>0</th>\n",
       "      <td>16.00</td>\n",
       "      <td>218</td>\n",
       "      <td>34.76</td>\n",
       "    </tr>\n",
       "    <tr>\n",
       "      <th>1</th>\n",
       "      <td>15.91</td>\n",
       "      <td>218</td>\n",
       "      <td>36.59</td>\n",
       "    </tr>\n",
       "    <tr>\n",
       "      <th>2</th>\n",
       "      <td>15.82</td>\n",
       "      <td>218</td>\n",
       "      <td>32.35</td>\n",
       "    </tr>\n",
       "    <tr>\n",
       "      <th>3</th>\n",
       "      <td>15.73</td>\n",
       "      <td>218</td>\n",
       "      <td>39.37</td>\n",
       "    </tr>\n",
       "    <tr>\n",
       "      <th>4</th>\n",
       "      <td>15.64</td>\n",
       "      <td>218</td>\n",
       "      <td>33.22</td>\n",
       "    </tr>\n",
       "    <tr>\n",
       "      <th>...</th>\n",
       "      <td>...</td>\n",
       "      <td>...</td>\n",
       "      <td>...</td>\n",
       "    </tr>\n",
       "    <tr>\n",
       "      <th>361</th>\n",
       "      <td>10.59</td>\n",
       "      <td>233</td>\n",
       "      <td>40.49</td>\n",
       "    </tr>\n",
       "    <tr>\n",
       "      <th>362</th>\n",
       "      <td>10.36</td>\n",
       "      <td>233</td>\n",
       "      <td>34.65</td>\n",
       "    </tr>\n",
       "    <tr>\n",
       "      <th>363</th>\n",
       "      <td>10.12</td>\n",
       "      <td>234</td>\n",
       "      <td>39.53</td>\n",
       "    </tr>\n",
       "    <tr>\n",
       "      <th>364</th>\n",
       "      <td>9.87</td>\n",
       "      <td>234</td>\n",
       "      <td>32.29</td>\n",
       "    </tr>\n",
       "    <tr>\n",
       "      <th>365</th>\n",
       "      <td>9.62</td>\n",
       "      <td>234</td>\n",
       "      <td>40.46</td>\n",
       "    </tr>\n",
       "  </tbody>\n",
       "</table>\n",
       "<p>366 rows × 3 columns</p>\n",
       "</div>"
      ],
      "text/plain": [
       "     wind speed  direction  Power Output\n",
       "0         16.00        218         34.76\n",
       "1         15.91        218         36.59\n",
       "2         15.82        218         32.35\n",
       "3         15.73        218         39.37\n",
       "4         15.64        218         33.22\n",
       "..          ...        ...           ...\n",
       "361       10.59        233         40.49\n",
       "362       10.36        233         34.65\n",
       "363       10.12        234         39.53\n",
       "364        9.87        234         32.29\n",
       "365        9.62        234         40.46\n",
       "\n",
       "[366 rows x 3 columns]"
      ]
     },
     "execution_count": 4,
     "metadata": {},
     "output_type": "execute_result"
    }
   ],
   "source": [
    "# Wind annual generation data;\n",
    "wind_annual_gen=pd.read_csv('wind_generation_data.csv') # load csv file on to a pandas data frame\n",
    "wind_annual_gen"
   ]
  },
  {
   "cell_type": "markdown",
   "metadata": {},
   "source": [
    "### Explore the data"
   ]
  },
  {
   "cell_type": "code",
   "execution_count": 5,
   "metadata": {},
   "outputs": [
    {
     "data": {
      "text/html": [
       "<div>\n",
       "<style scoped>\n",
       "    .dataframe tbody tr th:only-of-type {\n",
       "        vertical-align: middle;\n",
       "    }\n",
       "\n",
       "    .dataframe tbody tr th {\n",
       "        vertical-align: top;\n",
       "    }\n",
       "\n",
       "    .dataframe thead th {\n",
       "        text-align: right;\n",
       "    }\n",
       "</style>\n",
       "<table border=\"1\" class=\"dataframe\">\n",
       "  <thead>\n",
       "    <tr style=\"text-align: right;\">\n",
       "      <th></th>\n",
       "      <th>wind speed</th>\n",
       "      <th>direction</th>\n",
       "      <th>Power Output</th>\n",
       "    </tr>\n",
       "  </thead>\n",
       "  <tbody>\n",
       "    <tr>\n",
       "      <th>count</th>\n",
       "      <td>366.000000</td>\n",
       "      <td>366.000000</td>\n",
       "      <td>366.000000</td>\n",
       "    </tr>\n",
       "    <tr>\n",
       "      <th>mean</th>\n",
       "      <td>15.695792</td>\n",
       "      <td>220.081967</td>\n",
       "      <td>37.193607</td>\n",
       "    </tr>\n",
       "    <tr>\n",
       "      <th>std</th>\n",
       "      <td>3.743556</td>\n",
       "      <td>4.462796</td>\n",
       "      <td>7.243363</td>\n",
       "    </tr>\n",
       "    <tr>\n",
       "      <th>min</th>\n",
       "      <td>7.450000</td>\n",
       "      <td>209.000000</td>\n",
       "      <td>23.170000</td>\n",
       "    </tr>\n",
       "    <tr>\n",
       "      <th>25%</th>\n",
       "      <td>13.000000</td>\n",
       "      <td>218.000000</td>\n",
       "      <td>31.352500</td>\n",
       "    </tr>\n",
       "    <tr>\n",
       "      <th>50%</th>\n",
       "      <td>15.530000</td>\n",
       "      <td>220.000000</td>\n",
       "      <td>37.525000</td>\n",
       "    </tr>\n",
       "    <tr>\n",
       "      <th>75%</th>\n",
       "      <td>18.802500</td>\n",
       "      <td>222.000000</td>\n",
       "      <td>42.925000</td>\n",
       "    </tr>\n",
       "    <tr>\n",
       "      <th>max</th>\n",
       "      <td>22.710000</td>\n",
       "      <td>234.000000</td>\n",
       "      <td>51.810000</td>\n",
       "    </tr>\n",
       "  </tbody>\n",
       "</table>\n",
       "</div>"
      ],
      "text/plain": [
       "       wind speed   direction  Power Output\n",
       "count  366.000000  366.000000    366.000000\n",
       "mean    15.695792  220.081967     37.193607\n",
       "std      3.743556    4.462796      7.243363\n",
       "min      7.450000  209.000000     23.170000\n",
       "25%     13.000000  218.000000     31.352500\n",
       "50%     15.530000  220.000000     37.525000\n",
       "75%     18.802500  222.000000     42.925000\n",
       "max     22.710000  234.000000     51.810000"
      ]
     },
     "execution_count": 5,
     "metadata": {},
     "output_type": "execute_result"
    }
   ],
   "source": [
    "wind_annual_gen.describe() # summary statistics for all features or attributes\n",
    "# data.describe() # summary statistics for features or attributes"
   ]
  },
  {
   "cell_type": "code",
   "execution_count": 6,
   "metadata": {},
   "outputs": [
    {
     "name": "stdout",
     "output_type": "stream",
     "text": [
      "<class 'pandas.core.frame.DataFrame'>\n",
      "RangeIndex: 366 entries, 0 to 365\n",
      "Data columns (total 3 columns):\n",
      " #   Column        Non-Null Count  Dtype  \n",
      "---  ------        --------------  -----  \n",
      " 0   wind speed    366 non-null    float64\n",
      " 1   direction     366 non-null    int64  \n",
      " 2   Power Output  366 non-null    float64\n",
      "dtypes: float64(2), int64(1)\n",
      "memory usage: 8.7 KB\n"
     ]
    }
   ],
   "source": [
    "wind_annual_gen.info() # View of data types and count of values"
   ]
  },
  {
   "cell_type": "code",
   "execution_count": 7,
   "metadata": {},
   "outputs": [
    {
     "data": {
      "text/plain": [
       "wind speed      0\n",
       "direction       0\n",
       "Power Output    0\n",
       "dtype: int64"
      ]
     },
     "execution_count": 7,
     "metadata": {},
     "output_type": "execute_result"
    }
   ],
   "source": [
    "#  Check for missing val\n",
    "wind_annual_gen.isna().sum()"
   ]
  },
  {
   "cell_type": "code",
   "execution_count": 8,
   "metadata": {},
   "outputs": [
    {
     "data": {
      "image/png": "[encoded data removed]",
      "text/plain": [
       "<Figure size 720x720 with 4 Axes>"
      ]
     },
     "metadata": {
      "needs_background": "light"
     },
     "output_type": "display_data"
    }
   ],
   "source": [
    "# Visualization of the features using Histogram\n",
    "pd.DataFrame.hist(wind_annual_gen, figsize=(10,10)); # Histogram plots help to visualize the distribution characteristics. "
   ]
  },
  {
   "cell_type": "code",
   "execution_count": 9,
   "metadata": {},
   "outputs": [
    {
     "data": {
      "image/png": "[encoded data removed]",
      "text/plain": [
       "<Figure size 720x720 with 9 Axes>"
      ]
     },
     "metadata": {
      "needs_background": "light"
     },
     "output_type": "display_data"
    }
   ],
   "source": [
    "# Visualize the relationships between features\n",
    "\n",
    "scatter_matrix(wind_annual_gen, figsize=(10,10));"
   ]
  },
  {
   "cell_type": "code",
   "execution_count": 10,
   "metadata": {
    "scrolled": true
   },
   "outputs": [
    {
     "data": {
      "image/png": "[encoded data removed]",
      "text/plain": [
       "<Figure size 432x432 with 2 Axes>"
      ]
     },
     "metadata": {
      "needs_background": "light"
     },
     "output_type": "display_data"
    }
   ],
   "source": [
    "# Heatmap plot for viewing strength of corelations\n",
    "plt.figure(figsize=(6,6))\n",
    "corr_df = wind_annual_gen.corr(method='pearson')\n",
    "mask = np.zeros_like(corr_df)\n",
    "mask[np.triu_indices_from(mask)] = True\n",
    "# sns.heatmap(corr_df, cmap='RdYlGn_r',annot = True);\n",
    "\n",
    "sns.heatmap(corr_df, cmap='RdYlGn_r', vmax=1.0, vmin=-1.0 , mask = mask, linewidths=2.5, annot = True);\n",
    "\n",
    "# At a glance it is possible to see there is strong positive (dark red color) corelation between Power Output and wind speed\n",
    "# variables\n"
   ]
  },
  {
   "cell_type": "markdown",
   "metadata": {},
   "source": [
    "### Split dataset into predictor and target matrices & Create model and save using pickling"
   ]
  },
  {
   "cell_type": "code",
   "execution_count": 11,
   "metadata": {},
   "outputs": [
    {
     "name": "stdout",
     "output_type": "stream",
     "text": [
      "Target Values y= [34.76 36.59 32.35 39.37 33.22 37.09 41.23 32.72 40.39 37.54]\n",
      "\n",
      "Attribute Values X= [[ 16.   218.  ]\n",
      " [ 15.91 218.  ]\n",
      " [ 15.82 218.  ]]\n"
     ]
    }
   ],
   "source": [
    "# Split dataset into predictor and target matrices\n",
    "from sklearn import model_selection\n",
    "\n",
    "# Values of target\n",
    "y = wind_annual_gen['Power Output'].values\n",
    "\n",
    "# Values of attributes\n",
    "wind_annual_gen_X = wind_annual_gen.drop(['Power Output'], axis=1) # Drop the target value\n",
    "X = wind_annual_gen_X.values\n",
    "print('Target Values y=',y[:10]) # View first 10 Target values\n",
    "print('\\nAttribute Values X=',X[:3]) # view of 3no. rows of Attribute Values\n",
    "\n",
    "X_train, X_test, y_train, y_test = train_test_split(X, y, test_size=0.25, random_state=0)# Use test size of 25% for better\n",
    "# performance"
   ]
  },
  {
   "cell_type": "code",
   "execution_count": 12,
   "metadata": {},
   "outputs": [],
   "source": [
    "# # Fit the model on training set\n",
    "# windmodel = RandomForestRegressor(n_estimators=10000, random_state=0, n_jobs=-1)\n",
    "# windmodel.fit(X_train, y_train)"
   ]
  },
  {
   "cell_type": "code",
   "execution_count": 13,
   "metadata": {},
   "outputs": [],
   "source": [
    "# # Save Model Using Pickle\n",
    "\n",
    "# import pickle\n",
    "\n",
    "# fileObj = open('wind_model.obj', 'wb')\n",
    "# pickle.dump(windmodel,fileObj)\n",
    "# fileObj.close()"
   ]
  },
  {
   "cell_type": "code",
   "execution_count": 14,
   "metadata": {},
   "outputs": [
    {
     "data": {
      "text/plain": [
       "RandomForestRegressor(bootstrap=True, ccp_alpha=0.0, criterion='mse',\n",
       "                      max_depth=None, max_features='auto', max_leaf_nodes=None,\n",
       "                      max_samples=None, min_impurity_decrease=0.0,\n",
       "                      min_impurity_split=None, min_samples_leaf=1,\n",
       "                      min_samples_split=2, min_weight_fraction_leaf=0.0,\n",
       "                      n_estimators=10000, n_jobs=-1, oob_score=False,\n",
       "                      random_state=0, verbose=0, warm_start=False)"
      ]
     },
     "execution_count": 14,
     "metadata": {},
     "output_type": "execute_result"
    }
   ],
   "source": [
    "# use pickling to load the solar model from the object file\n",
    "import pickle   \n",
    "\n",
    "fileObj = open('wind_model.obj', 'rb')\n",
    "windmodel = pickle.load(fileObj)\n",
    "fileObj.close()\n",
    "windmodel"
   ]
  },
  {
   "cell_type": "code",
   "execution_count": 15,
   "metadata": {},
   "outputs": [
    {
     "data": {
      "text/plain": [
       "array([29.3557    , 47.78866342, 30.951316  , 32.323301  , 30.098193  ,\n",
       "       40.441345  , 28.249518  , 45.746614  , 47.667999  , 37.690151  ,\n",
       "       26.20879   , 29.144528  , 48.437981  , 47.78866342, 43.65635067,\n",
       "       39.33798   , 45.28787233, 26.23416   , 42.44879   , 27.0214    ,\n",
       "       32.891964  , 35.449373  , 32.331566  , 48.237768  , 45.435684  ,\n",
       "       44.038726  , 29.01966   , 42.583698  , 27.575558  , 38.353093  ,\n",
       "       30.826772  , 30.462072  , 33.37507   , 32.111456  , 31.495868  ,\n",
       "       36.287951  , 32.813429  , 32.950212  , 48.444852  , 27.888747  ,\n",
       "       40.344279  , 46.67844283, 38.44804   , 48.285589  , 30.73285   ,\n",
       "       45.392238  , 40.641895  , 45.49678406, 42.30464154, 27.317313  ,\n",
       "       33.622894  , 41.639434  , 41.92174575, 35.213087  , 27.582585  ,\n",
       "       31.417346  , 32.729489  , 31.671218  , 27.894942  , 31.992401  ,\n",
       "       44.213046  , 44.38234225, 39.136126  , 32.136319  , 42.352901  ,\n",
       "       40.587519  , 29.842862  , 29.045315  , 45.726617  , 32.045011  ,\n",
       "       33.044108  , 34.561839  , 32.100305  , 46.70116142, 30.108102  ,\n",
       "       42.34151638, 45.402554  , 43.794823  , 45.416053  , 40.747367  ,\n",
       "       34.201651  , 37.112547  , 37.458662  , 32.29505   , 40.535881  ,\n",
       "       39.496951  , 47.805447  , 37.146307  , 44.99636434, 43.39331459,\n",
       "       46.124723  , 34.77219   ])"
      ]
     },
     "execution_count": 15,
     "metadata": {},
     "output_type": "execute_result"
    }
   ],
   "source": [
    "# Predict\n",
    "y_pred = windmodel.predict(X_test)\n",
    "y_pred"
   ]
  },
  {
   "cell_type": "markdown",
   "metadata": {},
   "source": [
    "### Evaluate the results"
   ]
  },
  {
   "cell_type": "markdown",
   "metadata": {},
   "source": [
    "Using the `sklearn.metrics` moduel determine the accuracy score, i.e., the coefficient of determination $R^2$ of the prediction."
   ]
  },
  {
   "cell_type": "code",
   "execution_count": 16,
   "metadata": {},
   "outputs": [
    {
     "name": "stdout",
     "output_type": "stream",
     "text": [
      "\n",
      "Model train set Score= 0.95723631396018\n",
      "\n",
      "Model test set Score= 0.739305036261068\n"
     ]
    }
   ],
   "source": [
    "# Score\n",
    "print('\\nModel train set Score=',windmodel.score(X_train, y_train))\n",
    "print('\\nModel test set Score=',windmodel.score(X_test, y_test))\n",
    "\n",
    "# The model performance is good and has generalized well with the unseen test data set. There is a slight difference between\n",
    "# the test and training data set scores and have generally performed well. There is some overfitting. "
   ]
  },
  {
   "cell_type": "code",
   "execution_count": 17,
   "metadata": {},
   "outputs": [
    {
     "data": {
      "text/plain": [
       "0.739305036261068"
      ]
     },
     "execution_count": 17,
     "metadata": {},
     "output_type": "execute_result"
    }
   ],
   "source": [
    "# R2 Score\n",
    "r2_score(y_test, y_pred)\n",
    "\n",
    "# Model accuracy is good. The R2 score of 81% means the regression model fits the observations well.  "
   ]
  },
  {
   "cell_type": "code",
   "execution_count": 18,
   "metadata": {},
   "outputs": [
    {
     "name": "stdout",
     "output_type": "stream",
     "text": [
      "y_test[35]= 37.09 y_pred[20]= 32.891963999998104\n"
     ]
    }
   ],
   "source": [
    "# Model Predictions\n",
    "print('y_test[35]=',y_test[35],'y_pred[20]=',y_pred[20])\n",
    "# print('\\ny_test[400],y_pred=',y_test[400],'y_pred[400]=',y_pred[400])\n",
    "# print('\\ny_test[800],y_pred=',y_test[800],'y_pred[800]=',y_pred[800])"
   ]
  },
  {
   "cell_type": "code",
   "execution_count": 19,
   "metadata": {
    "scrolled": true
   },
   "outputs": [
    {
     "name": "stdout",
     "output_type": "stream",
     "text": [
      "    Actual  Predicted\n",
      "0    29.03  29.355700\n",
      "1    45.38  47.788663\n",
      "2    33.22  30.951316\n",
      "3    31.44  32.323301\n",
      "4    24.46  30.098193\n",
      "..     ...        ...\n",
      "87   43.82  37.146307\n",
      "88   49.77  44.996364\n",
      "89   46.22  43.393315\n",
      "90   43.92  46.124723\n",
      "91   29.74  34.772190\n",
      "\n",
      "[92 rows x 2 columns]\n"
     ]
    },
    {
     "data": {
      "text/html": [
       "<div>\n",
       "<style scoped>\n",
       "    .dataframe tbody tr th:only-of-type {\n",
       "        vertical-align: middle;\n",
       "    }\n",
       "\n",
       "    .dataframe tbody tr th {\n",
       "        vertical-align: top;\n",
       "    }\n",
       "\n",
       "    .dataframe thead th {\n",
       "        text-align: right;\n",
       "    }\n",
       "</style>\n",
       "<table border=\"1\" class=\"dataframe\">\n",
       "  <thead>\n",
       "    <tr style=\"text-align: right;\">\n",
       "      <th></th>\n",
       "      <th>Actual</th>\n",
       "      <th>Predicted</th>\n",
       "    </tr>\n",
       "  </thead>\n",
       "  <tbody>\n",
       "    <tr>\n",
       "      <th>count</th>\n",
       "      <td>92.000000</td>\n",
       "      <td>92.000000</td>\n",
       "    </tr>\n",
       "    <tr>\n",
       "      <th>mean</th>\n",
       "      <td>37.230109</td>\n",
       "      <td>37.487011</td>\n",
       "    </tr>\n",
       "    <tr>\n",
       "      <th>std</th>\n",
       "      <td>7.845594</td>\n",
       "      <td>6.835037</td>\n",
       "    </tr>\n",
       "    <tr>\n",
       "      <th>min</th>\n",
       "      <td>23.190000</td>\n",
       "      <td>26.208790</td>\n",
       "    </tr>\n",
       "    <tr>\n",
       "      <th>25%</th>\n",
       "      <td>30.975000</td>\n",
       "      <td>31.912105</td>\n",
       "    </tr>\n",
       "    <tr>\n",
       "      <th>50%</th>\n",
       "      <td>37.980000</td>\n",
       "      <td>37.302485</td>\n",
       "    </tr>\n",
       "    <tr>\n",
       "      <th>75%</th>\n",
       "      <td>44.190000</td>\n",
       "      <td>43.855799</td>\n",
       "    </tr>\n",
       "    <tr>\n",
       "      <th>max</th>\n",
       "      <td>50.240000</td>\n",
       "      <td>48.444852</td>\n",
       "    </tr>\n",
       "  </tbody>\n",
       "</table>\n",
       "</div>"
      ],
      "text/plain": [
       "          Actual  Predicted\n",
       "count  92.000000  92.000000\n",
       "mean   37.230109  37.487011\n",
       "std     7.845594   6.835037\n",
       "min    23.190000  26.208790\n",
       "25%    30.975000  31.912105\n",
       "50%    37.980000  37.302485\n",
       "75%    44.190000  43.855799\n",
       "max    50.240000  48.444852"
      ]
     },
     "execution_count": 19,
     "metadata": {},
     "output_type": "execute_result"
    }
   ],
   "source": [
    "# Comparing the actual output values for X_test with the predicted values\n",
    "df = pd.DataFrame({'Actual': y_test.flatten(), 'Predicted': y_pred.flatten()})\n",
    "print(df)\n",
    "df.describe()\n",
    "\n",
    "# Summary statistics also displays similarities in the mean, standard deviation,median, interquartile range and etc. \n",
    "# for the Power Generated in MW for the Actual and Predicted  "
   ]
  },
  {
   "cell_type": "markdown",
   "metadata": {},
   "source": [
    "### **<font color=blue>Conclusion<br><font color=blue>The model performance and accuracy are good at 73.9% and therefore the model is able to predict the Wind generated power(MW)  with about 73.9% accuracy . Also looking at the summary statistics for the actual and Predicted, the model has performed very well. </font>**"
   ]
  },
  {
   "cell_type": "code",
   "execution_count": 20,
   "metadata": {},
   "outputs": [
    {
     "name": "stdout",
     "output_type": "stream",
     "text": [
      "{'product': 'civil', 'init': '2020092300', 'dataseries': [{'timepoint': 3, 'cloudcover': 9, 'lifted_index': -1, 'prec_type': 'none', 'prec_amount': 0, 'temp2m': 26, 'rh2m': '88%', 'wind10m': {'direction': 'SW', 'speed': 5}, 'weather': 'cloudyday'}, {'timepoint': 6, 'cloudcover': 9, 'lifted_index': -1, 'prec_type': 'none', 'prec_amount': 1, 'temp2m': 26, 'rh2m': '84%', 'wind10m': {'direction': 'SW', 'speed': 5}, 'weather': 'cloudyday'}, {'timepoint': 9, 'cloudcover': 9, 'lifted_index': -1, 'prec_type': 'none', 'prec_amount': 1, 'temp2m': 26, 'rh2m': '89%', 'wind10m': {'direction': 'SW', 'speed': 5}, 'weather': 'cloudyday'}, {'timepoint': 12, 'cloudcover': 9, 'lifted_index': -1, 'prec_type': 'none', 'prec_amount': 1, 'temp2m': 26, 'rh2m': '84%', 'wind10m': {'direction': 'SW', 'speed': 5}, 'weather': 'cloudyday'}, {'timepoint': 15, 'cloudcover': 3, 'lifted_index': -1, 'prec_type': 'none', 'prec_amount': 1, 'temp2m': 26, 'rh2m': '80%', 'wind10m': {'direction': 'SW', 'speed': 5}, 'weather': 'pcloudynight'}, {'timepoint': 18, 'cloudcover': 2, 'lifted_index': -1, 'prec_type': 'none', 'prec_amount': 1, 'temp2m': 26, 'rh2m': '83%', 'wind10m': {'direction': 'SW', 'speed': 5}, 'weather': 'clearnight'}, {'timepoint': 21, 'cloudcover': 1, 'lifted_index': -1, 'prec_type': 'none', 'prec_amount': 1, 'temp2m': 26, 'rh2m': '87%', 'wind10m': {'direction': 'SW', 'speed': 5}, 'weather': 'clearnight'}, {'timepoint': 24, 'cloudcover': 1, 'lifted_index': -1, 'prec_type': 'none', 'prec_amount': 1, 'temp2m': 26, 'rh2m': '86%', 'wind10m': {'direction': 'SW', 'speed': 5}, 'weather': 'clearnight'}, {'timepoint': 27, 'cloudcover': 1, 'lifted_index': -1, 'prec_type': 'none', 'prec_amount': 1, 'temp2m': 26, 'rh2m': '88%', 'wind10m': {'direction': 'SW', 'speed': 5}, 'weather': 'clearday'}, {'timepoint': 30, 'cloudcover': 2, 'lifted_index': -1, 'prec_type': 'none', 'prec_amount': 1, 'temp2m': 26, 'rh2m': '86%', 'wind10m': {'direction': 'SW', 'speed': 5}, 'weather': 'clearday'}, {'timepoint': 33, 'cloudcover': 5, 'lifted_index': -1, 'prec_type': 'none', 'prec_amount': 1, 'temp2m': 26, 'rh2m': '84%', 'wind10m': {'direction': 'SW', 'speed': 5}, 'weather': 'pcloudyday'}, {'timepoint': 36, 'cloudcover': 7, 'lifted_index': 2, 'prec_type': 'none', 'prec_amount': 1, 'temp2m': 26, 'rh2m': '80%', 'wind10m': {'direction': 'SW', 'speed': 5}, 'weather': 'mcloudyday'}, {'timepoint': 39, 'cloudcover': 4, 'lifted_index': 2, 'prec_type': 'none', 'prec_amount': 1, 'temp2m': 26, 'rh2m': '80%', 'wind10m': {'direction': 'SW', 'speed': 5}, 'weather': 'pcloudynight'}, {'timepoint': 42, 'cloudcover': 2, 'lifted_index': 2, 'prec_type': 'none', 'prec_amount': 1, 'temp2m': 26, 'rh2m': '83%', 'wind10m': {'direction': 'SW', 'speed': 5}, 'weather': 'clearnight'}, {'timepoint': 45, 'cloudcover': 1, 'lifted_index': 2, 'prec_type': 'none', 'prec_amount': 1, 'temp2m': 26, 'rh2m': '83%', 'wind10m': {'direction': 'SW', 'speed': 5}, 'weather': 'clearnight'}, {'timepoint': 48, 'cloudcover': 1, 'lifted_index': -1, 'prec_type': 'none', 'prec_amount': 1, 'temp2m': 26, 'rh2m': '80%', 'wind10m': {'direction': 'SW', 'speed': 5}, 'weather': 'clearnight'}, {'timepoint': 51, 'cloudcover': 4, 'lifted_index': -1, 'prec_type': 'none', 'prec_amount': 1, 'temp2m': 26, 'rh2m': '80%', 'wind10m': {'direction': 'SW', 'speed': 5}, 'weather': 'pcloudyday'}, {'timepoint': 54, 'cloudcover': 3, 'lifted_index': 2, 'prec_type': 'none', 'prec_amount': 1, 'temp2m': 26, 'rh2m': '82%', 'wind10m': {'direction': 'SW', 'speed': 4}, 'weather': 'pcloudyday'}, {'timepoint': 57, 'cloudcover': 4, 'lifted_index': 2, 'prec_type': 'none', 'prec_amount': 1, 'temp2m': 26, 'rh2m': '81%', 'wind10m': {'direction': 'SW', 'speed': 5}, 'weather': 'pcloudyday'}, {'timepoint': 60, 'cloudcover': 3, 'lifted_index': 2, 'prec_type': 'none', 'prec_amount': 1, 'temp2m': 26, 'rh2m': '83%', 'wind10m': {'direction': 'SW', 'speed': 4}, 'weather': 'pcloudyday'}, {'timepoint': 63, 'cloudcover': 1, 'lifted_index': 2, 'prec_type': 'none', 'prec_amount': 1, 'temp2m': 26, 'rh2m': '80%', 'wind10m': {'direction': 'S', 'speed': 5}, 'weather': 'clearnight'}, {'timepoint': 66, 'cloudcover': 1, 'lifted_index': -1, 'prec_type': 'none', 'prec_amount': 1, 'temp2m': 26, 'rh2m': '82%', 'wind10m': {'direction': 'S', 'speed': 5}, 'weather': 'clearnight'}, {'timepoint': 69, 'cloudcover': 5, 'lifted_index': -1, 'prec_type': 'none', 'prec_amount': 1, 'temp2m': 26, 'rh2m': '87%', 'wind10m': {'direction': 'S', 'speed': 4}, 'weather': 'pcloudynight'}, {'timepoint': 72, 'cloudcover': 4, 'lifted_index': -1, 'prec_type': 'none', 'prec_amount': 1, 'temp2m': 26, 'rh2m': '85%', 'wind10m': {'direction': 'SW', 'speed': 4}, 'weather': 'pcloudynight'}, {'timepoint': 75, 'cloudcover': 7, 'lifted_index': -1, 'prec_type': 'none', 'prec_amount': 1, 'temp2m': 26, 'rh2m': '82%', 'wind10m': {'direction': 'SW', 'speed': 4}, 'weather': 'mcloudyday'}, {'timepoint': 78, 'cloudcover': 5, 'lifted_index': -1, 'prec_type': 'none', 'prec_amount': 1, 'temp2m': 26, 'rh2m': '80%', 'wind10m': {'direction': 'SW', 'speed': 4}, 'weather': 'pcloudyday'}, {'timepoint': 81, 'cloudcover': 4, 'lifted_index': -1, 'prec_type': 'none', 'prec_amount': 1, 'temp2m': 26, 'rh2m': '84%', 'wind10m': {'direction': 'SW', 'speed': 4}, 'weather': 'pcloudyday'}, {'timepoint': 84, 'cloudcover': 3, 'lifted_index': -1, 'prec_type': 'none', 'prec_amount': 1, 'temp2m': 26, 'rh2m': '83%', 'wind10m': {'direction': 'SW', 'speed': 4}, 'weather': 'pcloudyday'}, {'timepoint': 87, 'cloudcover': 1, 'lifted_index': -1, 'prec_type': 'none', 'prec_amount': 1, 'temp2m': 26, 'rh2m': '80%', 'wind10m': {'direction': 'SW', 'speed': 4}, 'weather': 'clearnight'}, {'timepoint': 90, 'cloudcover': 2, 'lifted_index': -1, 'prec_type': 'none', 'prec_amount': 1, 'temp2m': 26, 'rh2m': '85%', 'wind10m': {'direction': 'S', 'speed': 4}, 'weather': 'clearnight'}, {'timepoint': 93, 'cloudcover': 4, 'lifted_index': -1, 'prec_type': 'none', 'prec_amount': 1, 'temp2m': 26, 'rh2m': '87%', 'wind10m': {'direction': 'S', 'speed': 4}, 'weather': 'pcloudynight'}, {'timepoint': 96, 'cloudcover': 4, 'lifted_index': -1, 'prec_type': 'none', 'prec_amount': 1, 'temp2m': 26, 'rh2m': '83%', 'wind10m': {'direction': 'S', 'speed': 4}, 'weather': 'pcloudynight'}, {'timepoint': 99, 'cloudcover': 9, 'lifted_index': -1, 'prec_type': 'none', 'prec_amount': 1, 'temp2m': 26, 'rh2m': '88%', 'wind10m': {'direction': 'S', 'speed': 4}, 'weather': 'cloudyday'}, {'timepoint': 102, 'cloudcover': 9, 'lifted_index': -1, 'prec_type': 'none', 'prec_amount': 1, 'temp2m': 26, 'rh2m': '86%', 'wind10m': {'direction': 'S', 'speed': 3}, 'weather': 'cloudyday'}, {'timepoint': 105, 'cloudcover': 6, 'lifted_index': -1, 'prec_type': 'none', 'prec_amount': 1, 'temp2m': 26, 'rh2m': '86%', 'wind10m': {'direction': 'SW', 'speed': 3}, 'weather': 'mcloudyday'}, {'timepoint': 108, 'cloudcover': 8, 'lifted_index': -1, 'prec_type': 'none', 'prec_amount': 1, 'temp2m': 26, 'rh2m': '88%', 'wind10m': {'direction': 'SW', 'speed': 3}, 'weather': 'cloudyday'}, {'timepoint': 111, 'cloudcover': 9, 'lifted_index': -1, 'prec_type': 'none', 'prec_amount': 1, 'temp2m': 26, 'rh2m': '90%', 'wind10m': {'direction': 'S', 'speed': 3}, 'weather': 'cloudynight'}, {'timepoint': 114, 'cloudcover': 9, 'lifted_index': -1, 'prec_type': 'none', 'prec_amount': 1, 'temp2m': 26, 'rh2m': '89%', 'wind10m': {'direction': 'S', 'speed': 3}, 'weather': 'cloudynight'}, {'timepoint': 117, 'cloudcover': 6, 'lifted_index': -1, 'prec_type': 'none', 'prec_amount': 1, 'temp2m': 26, 'rh2m': '90%', 'wind10m': {'direction': 'S', 'speed': 3}, 'weather': 'mcloudynight'}, {'timepoint': 120, 'cloudcover': 5, 'lifted_index': -1, 'prec_type': 'none', 'prec_amount': 1, 'temp2m': 26, 'rh2m': '87%', 'wind10m': {'direction': 'S', 'speed': 4}, 'weather': 'pcloudynight'}, {'timepoint': 123, 'cloudcover': 8, 'lifted_index': -1, 'prec_type': 'none', 'prec_amount': 1, 'temp2m': 26, 'rh2m': '85%', 'wind10m': {'direction': 'S', 'speed': 3}, 'weather': 'cloudyday'}, {'timepoint': 126, 'cloudcover': 8, 'lifted_index': -4, 'prec_type': 'none', 'prec_amount': 1, 'temp2m': 26, 'rh2m': '88%', 'wind10m': {'direction': 'S', 'speed': 3}, 'weather': 'cloudyday'}, {'timepoint': 129, 'cloudcover': 1, 'lifted_index': -1, 'prec_type': 'none', 'prec_amount': 1, 'temp2m': 26, 'rh2m': '88%', 'wind10m': {'direction': 'S', 'speed': 3}, 'weather': 'clearday'}, {'timepoint': 132, 'cloudcover': 4, 'lifted_index': -1, 'prec_type': 'none', 'prec_amount': 1, 'temp2m': 27, 'rh2m': '85%', 'wind10m': {'direction': 'S', 'speed': 3}, 'weather': 'pcloudyday'}, {'timepoint': 135, 'cloudcover': 9, 'lifted_index': -4, 'prec_type': 'none', 'prec_amount': 1, 'temp2m': 26, 'rh2m': '86%', 'wind10m': {'direction': 'S', 'speed': 3}, 'weather': 'cloudynight'}, {'timepoint': 138, 'cloudcover': 9, 'lifted_index': -4, 'prec_type': 'none', 'prec_amount': 1, 'temp2m': 26, 'rh2m': '85%', 'wind10m': {'direction': 'S', 'speed': 3}, 'weather': 'cloudynight'}, {'timepoint': 141, 'cloudcover': 3, 'lifted_index': -4, 'prec_type': 'none', 'prec_amount': 1, 'temp2m': 26, 'rh2m': '86%', 'wind10m': {'direction': 'S', 'speed': 3}, 'weather': 'pcloudynight'}, {'timepoint': 144, 'cloudcover': 4, 'lifted_index': -4, 'prec_type': 'none', 'prec_amount': 1, 'temp2m': 26, 'rh2m': '86%', 'wind10m': {'direction': 'S', 'speed': 3}, 'weather': 'pcloudynight'}, {'timepoint': 147, 'cloudcover': 9, 'lifted_index': -4, 'prec_type': 'none', 'prec_amount': 1, 'temp2m': 26, 'rh2m': '88%', 'wind10m': {'direction': 'S', 'speed': 3}, 'weather': 'cloudyday'}, {'timepoint': 150, 'cloudcover': 6, 'lifted_index': -4, 'prec_type': 'none', 'prec_amount': 1, 'temp2m': 26, 'rh2m': '87%', 'wind10m': {'direction': 'S', 'speed': 3}, 'weather': 'mcloudyday'}, {'timepoint': 153, 'cloudcover': 2, 'lifted_index': -4, 'prec_type': 'rain', 'prec_amount': 1, 'temp2m': 27, 'rh2m': '85%', 'wind10m': {'direction': 'SW', 'speed': 3}, 'weather': 'ishowerday'}, {'timepoint': 156, 'cloudcover': 3, 'lifted_index': -4, 'prec_type': 'rain', 'prec_amount': 2, 'temp2m': 27, 'rh2m': '84%', 'wind10m': {'direction': 'SW', 'speed': 3}, 'weather': 'ishowerday'}, {'timepoint': 159, 'cloudcover': 2, 'lifted_index': -4, 'prec_type': 'rain', 'prec_amount': 2, 'temp2m': 26, 'rh2m': '90%', 'wind10m': {'direction': 'SW', 'speed': 3}, 'weather': 'ishowernight'}, {'timepoint': 162, 'cloudcover': 1, 'lifted_index': -4, 'prec_type': 'rain', 'prec_amount': 2, 'temp2m': 26, 'rh2m': '86%', 'wind10m': {'direction': 'S', 'speed': 3}, 'weather': 'ishowernight'}, {'timepoint': 165, 'cloudcover': 1, 'lifted_index': -4, 'prec_type': 'none', 'prec_amount': 2, 'temp2m': 26, 'rh2m': '89%', 'wind10m': {'direction': 'S', 'speed': 3}, 'weather': 'clearnight'}, {'timepoint': 168, 'cloudcover': 2, 'lifted_index': -4, 'prec_type': 'none', 'prec_amount': 2, 'temp2m': 26, 'rh2m': '86%', 'wind10m': {'direction': 'S', 'speed': 4}, 'weather': 'clearnight'}, {'timepoint': 171, 'cloudcover': 6, 'lifted_index': -4, 'prec_type': 'none', 'prec_amount': 2, 'temp2m': 26, 'rh2m': '86%', 'wind10m': {'direction': 'S', 'speed': 3}, 'weather': 'mcloudyday'}, {'timepoint': 174, 'cloudcover': 5, 'lifted_index': -4, 'prec_type': 'none', 'prec_amount': 2, 'temp2m': 26, 'rh2m': '88%', 'wind10m': {'direction': 'SW', 'speed': 3}, 'weather': 'pcloudyday'}, {'timepoint': 177, 'cloudcover': 1, 'lifted_index': -4, 'prec_type': 'none', 'prec_amount': 2, 'temp2m': 27, 'rh2m': '85%', 'wind10m': {'direction': 'SW', 'speed': 3}, 'weather': 'clearday'}, {'timepoint': 180, 'cloudcover': 4, 'lifted_index': -4, 'prec_type': 'none', 'prec_amount': 2, 'temp2m': 27, 'rh2m': '82%', 'wind10m': {'direction': 'SW', 'speed': 3}, 'weather': 'pcloudyday'}, {'timepoint': 183, 'cloudcover': 4, 'lifted_index': -4, 'prec_type': 'rain', 'prec_amount': 2, 'temp2m': 26, 'rh2m': '87%', 'wind10m': {'direction': 'SW', 'speed': 3}, 'weather': 'ishowernight'}, {'timepoint': 186, 'cloudcover': 2, 'lifted_index': -4, 'prec_type': 'none', 'prec_amount': 2, 'temp2m': 26, 'rh2m': '86%', 'wind10m': {'direction': 'S', 'speed': 3}, 'weather': 'clearnight'}, {'timepoint': 189, 'cloudcover': 1, 'lifted_index': -4, 'prec_type': 'none', 'prec_amount': 2, 'temp2m': 26, 'rh2m': '90%', 'wind10m': {'direction': 'S', 'speed': 3}, 'weather': 'clearnight'}, {'timepoint': 192, 'cloudcover': 1, 'lifted_index': -4, 'prec_type': 'none', 'prec_amount': 2, 'temp2m': 26, 'rh2m': '85%', 'wind10m': {'direction': 'S', 'speed': 3}, 'weather': 'clearnight'}]}\n"
     ]
    }
   ],
   "source": [
    "# Prediction of Wind generation using unseen data from the Weather API in JSON format\n",
    "\n",
    "# The machine-readable API will produce a set of data that can be used directly by application.\n",
    "# JSON: http://www.7timer.info/bin/api.pl?lon=53.557&lat=8.598&product=civil&output=json\n",
    "\n",
    "import urllib, json\n",
    "\n",
    "url = \"http://www.7timer.info/bin/api.pl?lon=53.557&lat=8.598&product=civil&output=json\"\n",
    "\n",
    "import requests\n",
    "\n",
    "r = requests.get(url)\n",
    "\n",
    "print (r.json())"
   ]
  },
  {
   "cell_type": "code",
   "execution_count": 21,
   "metadata": {},
   "outputs": [
    {
     "data": {
      "text/html": [
       "<div>\n",
       "<style scoped>\n",
       "    .dataframe tbody tr th:only-of-type {\n",
       "        vertical-align: middle;\n",
       "    }\n",
       "\n",
       "    .dataframe tbody tr th {\n",
       "        vertical-align: top;\n",
       "    }\n",
       "\n",
       "    .dataframe thead th {\n",
       "        text-align: right;\n",
       "    }\n",
       "</style>\n",
       "<table border=\"1\" class=\"dataframe\">\n",
       "  <thead>\n",
       "    <tr style=\"text-align: right;\">\n",
       "      <th></th>\n",
       "      <th>product</th>\n",
       "      <th>init</th>\n",
       "      <th>dataseries</th>\n",
       "    </tr>\n",
       "  </thead>\n",
       "  <tbody>\n",
       "    <tr>\n",
       "      <th>0</th>\n",
       "      <td>civil</td>\n",
       "      <td>2020092300</td>\n",
       "      <td>{'timepoint': 3, 'cloudcover': 9, 'lifted_inde...</td>\n",
       "    </tr>\n",
       "    <tr>\n",
       "      <th>1</th>\n",
       "      <td>civil</td>\n",
       "      <td>2020092300</td>\n",
       "      <td>{'timepoint': 6, 'cloudcover': 9, 'lifted_inde...</td>\n",
       "    </tr>\n",
       "    <tr>\n",
       "      <th>2</th>\n",
       "      <td>civil</td>\n",
       "      <td>2020092300</td>\n",
       "      <td>{'timepoint': 9, 'cloudcover': 9, 'lifted_inde...</td>\n",
       "    </tr>\n",
       "    <tr>\n",
       "      <th>3</th>\n",
       "      <td>civil</td>\n",
       "      <td>2020092300</td>\n",
       "      <td>{'timepoint': 12, 'cloudcover': 9, 'lifted_ind...</td>\n",
       "    </tr>\n",
       "    <tr>\n",
       "      <th>4</th>\n",
       "      <td>civil</td>\n",
       "      <td>2020092300</td>\n",
       "      <td>{'timepoint': 15, 'cloudcover': 3, 'lifted_ind...</td>\n",
       "    </tr>\n",
       "    <tr>\n",
       "      <th>...</th>\n",
       "      <td>...</td>\n",
       "      <td>...</td>\n",
       "      <td>...</td>\n",
       "    </tr>\n",
       "    <tr>\n",
       "      <th>59</th>\n",
       "      <td>civil</td>\n",
       "      <td>2020092300</td>\n",
       "      <td>{'timepoint': 180, 'cloudcover': 4, 'lifted_in...</td>\n",
       "    </tr>\n",
       "    <tr>\n",
       "      <th>60</th>\n",
       "      <td>civil</td>\n",
       "      <td>2020092300</td>\n",
       "      <td>{'timepoint': 183, 'cloudcover': 4, 'lifted_in...</td>\n",
       "    </tr>\n",
       "    <tr>\n",
       "      <th>61</th>\n",
       "      <td>civil</td>\n",
       "      <td>2020092300</td>\n",
       "      <td>{'timepoint': 186, 'cloudcover': 2, 'lifted_in...</td>\n",
       "    </tr>\n",
       "    <tr>\n",
       "      <th>62</th>\n",
       "      <td>civil</td>\n",
       "      <td>2020092300</td>\n",
       "      <td>{'timepoint': 189, 'cloudcover': 1, 'lifted_in...</td>\n",
       "    </tr>\n",
       "    <tr>\n",
       "      <th>63</th>\n",
       "      <td>civil</td>\n",
       "      <td>2020092300</td>\n",
       "      <td>{'timepoint': 192, 'cloudcover': 1, 'lifted_in...</td>\n",
       "    </tr>\n",
       "  </tbody>\n",
       "</table>\n",
       "<p>64 rows × 3 columns</p>\n",
       "</div>"
      ],
      "text/plain": [
       "   product        init                                         dataseries\n",
       "0    civil  2020092300  {'timepoint': 3, 'cloudcover': 9, 'lifted_inde...\n",
       "1    civil  2020092300  {'timepoint': 6, 'cloudcover': 9, 'lifted_inde...\n",
       "2    civil  2020092300  {'timepoint': 9, 'cloudcover': 9, 'lifted_inde...\n",
       "3    civil  2020092300  {'timepoint': 12, 'cloudcover': 9, 'lifted_ind...\n",
       "4    civil  2020092300  {'timepoint': 15, 'cloudcover': 3, 'lifted_ind...\n",
       "..     ...         ...                                                ...\n",
       "59   civil  2020092300  {'timepoint': 180, 'cloudcover': 4, 'lifted_in...\n",
       "60   civil  2020092300  {'timepoint': 183, 'cloudcover': 4, 'lifted_in...\n",
       "61   civil  2020092300  {'timepoint': 186, 'cloudcover': 2, 'lifted_in...\n",
       "62   civil  2020092300  {'timepoint': 189, 'cloudcover': 1, 'lifted_in...\n",
       "63   civil  2020092300  {'timepoint': 192, 'cloudcover': 1, 'lifted_in...\n",
       "\n",
       "[64 rows x 3 columns]"
      ]
     },
     "execution_count": 21,
     "metadata": {},
     "output_type": "execute_result"
    }
   ],
   "source": [
    "import pandas as pd\n",
    "pd.read_json (r.url)"
   ]
  }
 ],
 "metadata": {
  "kernelspec": {
   "display_name": "Python 3",
   "language": "python",
   "name": "python3"
  },
  "language_info": {
   "codemirror_mode": {
    "name": "ipython",
    "version": 3
   },
   "file_extension": ".py",
   "mimetype": "text/x-python",
   "name": "python",
   "nbconvert_exporter": "python",
   "pygments_lexer": "ipython3",
   "version": "3.7.6"
  }
 },
 "nbformat": 4,
 "nbformat_minor": 2
}
